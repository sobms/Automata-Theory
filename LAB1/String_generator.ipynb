{
 "cells": [
  {
   "cell_type": "code",
   "execution_count": 14,
   "id": "36acf5b8",
   "metadata": {},
   "outputs": [
    {
     "name": "stdout",
     "output_type": "stream",
     "text": [
      "Requirement already satisfied: rstr in d:\\anaconda\\lib\\site-packages (3.0.0)\n"
     ]
    }
   ],
   "source": [
    "!pip install rstr\n",
    "import rstr\n",
    "import numpy as np\n",
    "from random import randint"
   ]
  },
  {
   "cell_type": "code",
   "execution_count": 31,
   "id": "f2093f99",
   "metadata": {
    "scrolled": true
   },
   "outputs": [],
   "source": [
    "n_str = 10000\n",
    "var_num = n_str\n",
    "file = open(\"C:\\\\Users\\\\79192\\\\Desktop\\\\Automata_Theory\\\\LAB1\\\\file.txt\", \"w\")\n",
    "variable_array = np.full(var_num, None)\n",
    "for i in range(0,var_num):\n",
    "    variable_array[i] = rstr.xeger(r\"([a-zA-Z][a-zA-Z0-9]{,15})\")\n",
    "\n",
    "for i in range(0,n_str):\n",
    "    idx = randint(0,var_num-1)\n",
    "    file.write(rstr.xeger(r\"[0-9]+ (((int)|(long)|(short)) )?\") + variable_array[idx] + rstr.xeger(r\"(=(([a-zA-Z][a-zA-Z0-9]{,15})|([0-9]+)))?\\n\"))\n",
    "file.close()    "
   ]
  },
  {
   "cell_type": "code",
   "execution_count": null,
   "id": "4a4e923d",
   "metadata": {},
   "outputs": [],
   "source": []
  }
 ],
 "metadata": {
  "kernelspec": {
   "display_name": "Python 3",
   "language": "python",
   "name": "python3"
  },
  "language_info": {
   "codemirror_mode": {
    "name": "ipython",
    "version": 3
   },
   "file_extension": ".py",
   "mimetype": "text/x-python",
   "name": "python",
   "nbconvert_exporter": "python",
   "pygments_lexer": "ipython3",
   "version": "3.7.9"
  }
 },
 "nbformat": 4,
 "nbformat_minor": 5
}

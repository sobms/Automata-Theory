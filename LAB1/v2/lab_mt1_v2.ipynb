{
 "cells": [
  {
   "cell_type": "code",
   "execution_count": 209,
   "id": "5115c3fe",
   "metadata": {
    "scrolled": false
   },
   "outputs": [
    {
     "name": "stdout",
     "output_type": "stream",
     "text": [
      "12 int a=0\n"
     ]
    }
   ],
   "source": [
    "import re\n",
    "\n",
    "data_list = {}\n",
    "bad_var = set()\n",
    "input_string = input()"
   ]
  },
  {
   "cell_type": "code",
   "execution_count": 210,
   "id": "f8c6fd42",
   "metadata": {
    "scrolled": true
   },
   "outputs": [
    {
     "name": "stdout",
     "output_type": "stream",
     "text": [
      "13 short a\n",
      "14 long a=3\n",
      "15 int a=\\\n",
      "16 int c=\n",
      "17 c\n",
      "18 long c=90\n",
      "19 short a=111\n",
      "20 b=1\n",
      "\n"
     ]
    }
   ],
   "source": [
    "while (len(input_string)):\n",
    "    match = re.fullmatch(r\"(?P<string_number>[0-9]+) (?P<variable_type>((int)|(long)|(short)) )?(?P<variable>[a-zA-Z][a-zA-Z0-9]{,15})(=(?P<literal>(([a-zA-Z][a-zA-Z0-9]{,15})|([0-9]+))))?\", input_string)\n",
    "    if (match!=None):\n",
    "        var = match.group(\"variable\")\n",
    "        variable_type = match.group(\"variable_type\")[:-1] if (match.group(\"variable_type\")!=None) else 'int'\n",
    "        if var not in data_list.keys():            \n",
    "            data_list[var]=[(variable_type, match.group(\"string_number\"))]\n",
    "        else:\n",
    "            if data_list[var][0][0]!=variable_type:\n",
    "                bad_var.add(var)\n",
    "            data_list[var].append((variable_type,match.group(\"string_number\")))\n",
    "    input_string = input()"
   ]
  },
  {
   "cell_type": "code",
   "execution_count": 212,
   "id": "f2b2e05c",
   "metadata": {},
   "outputs": [
    {
     "data": {
      "text/plain": [
       "{'a', 'c'}"
      ]
     },
     "execution_count": 212,
     "metadata": {},
     "output_type": "execute_result"
    }
   ],
   "source": [
    "bad_var"
   ]
  },
  {
   "cell_type": "code",
   "execution_count": 214,
   "id": "4ac5fc30",
   "metadata": {
    "scrolled": false
   },
   "outputs": [
    {
     "name": "stdout",
     "output_type": "stream",
     "text": [
      "17 - c\n",
      "18 - c\n",
      "12 - a\n",
      "13 - a\n",
      "14 - a\n",
      "19 - a\n"
     ]
    }
   ],
   "source": [
    "for var in bad_var:\n",
    "    for line in data_list[var]:\n",
    "        print(line[1] + ' - ' + var)"
   ]
  }
 ],
 "metadata": {
  "kernelspec": {
   "display_name": "Python 3",
   "language": "python",
   "name": "python3"
  },
  "language_info": {
   "codemirror_mode": {
    "name": "ipython",
    "version": 3
   },
   "file_extension": ".py",
   "mimetype": "text/x-python",
   "name": "python",
   "nbconvert_exporter": "python",
   "pygments_lexer": "ipython3",
   "version": "3.7.9"
  }
 },
 "nbformat": 4,
 "nbformat_minor": 5
}
